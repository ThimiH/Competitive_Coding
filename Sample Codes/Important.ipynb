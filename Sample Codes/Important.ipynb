{
 "cells": [
  {
   "cell_type": "markdown",
   "metadata": {},
   "source": [
    "### Compact list,dict handling"
   ]
  },
  {
   "cell_type": "code",
   "execution_count": null,
   "metadata": {},
   "outputs": [],
   "source": [
    "for index in range(len(L)):\n",
    "    value = L[index]\n",
    "    # ... handling of index and value\n",
    "\n",
    "for index, value in enumerate(L):\n",
    "    # ... handling of index and value\n",
    "\n",
    "for key, value in dic.items():\n",
    "    # ... handling of key and value\n",
    "\n",
    "my_string = \"cowboy bebop\"\n",
    "nb_occurrences = {letter: 0 for letter in my_string}\n",
    "# nb_occurrences\n",
    "# {’c’: 0, ’o’: 0, ’w’: 0, ’b’: 0, ’y’: 0, ’ ’: 0, ’e’: 0, ’p’: 0}"
   ]
  },
  {
   "cell_type": "markdown",
   "metadata": {},
   "source": [
    "#### Comparison"
   ]
  },
  {
   "cell_type": "code",
   "execution_count": 2,
   "metadata": {},
   "outputs": [
    {
     "data": {
      "text/plain": [
       "(9, 6)"
      ]
     },
     "execution_count": 2,
     "metadata": {},
     "output_type": "execute_result"
    }
   ],
   "source": [
    "tab = [1,2,5,6,3,4,9,8,7]\n",
    "max((tab[i], i) for i,tab_i in enumerate(tab))"
   ]
  },
  {
   "cell_type": "markdown",
   "metadata": {},
   "source": [
    "### Important libraries"
   ]
  },
  {
   "cell_type": "code",
   "execution_count": null,
   "metadata": {},
   "outputs": [],
   "source": [
    "import math\n",
    "import fractions\n",
    "import bisect\n",
    "import heapq\n",
    "import string"
   ]
  },
  {
   "cell_type": "markdown",
   "metadata": {},
   "source": [
    "### Heap"
   ]
  },
  {
   "cell_type": "code",
   "execution_count": null,
   "metadata": {},
   "outputs": [],
   "source": [
    "class OurHeap:\n",
    "    def __init__(self, items):\n",
    "        self.heap = [None]          # index 0 will be ignored\n",
    "        self.rank = {}\n",
    "        for x in items:\n",
    "            self.push(x)\n",
    "    \n",
    "    def __len__(self):\n",
    "        return len(self.heap)- 1\n",
    "    \n",
    "    def push(self, x):\n",
    "        assert x not in self.rank\n",
    "        i=len(self.heap)\n",
    "        self.heap.append(x)         # add a new leaf\n",
    "        self.rank[x] = i\n",
    "        self.up(i)                  # maintain heap order\n",
    "    \n",
    "    def pop(self):\n",
    "        root = self.heap[1]\n",
    "        del self.rank[root]\n",
    "        x = self.heap.pop()         # remove last leaf\n",
    "        if self:                    # if heap is not empty\n",
    "            self.heap[1] = x        # move the last leaf\n",
    "            self.rank[x] = 1        # to the root\n",
    "            self.down(1)            # maintain heap order\n",
    "        return root\n",
    "\n",
    "    def up(self,i):\n",
    "        x=self.heap[i]\n",
    "        while i>1 and x<self.heap[i//2]:\n",
    "            self.heap[i]=self.heap[i//2]\n",
    "            self.rank[self.heap[i//2]]=i\n",
    "            i//=2\n",
    "        self.heap[i]=x              # insertion index found\n",
    "        self.rank[x]=i\n",
    "    \n",
    "    def down(self,i):\n",
    "        x=self.heap[i]\n",
    "        n=len(self.heap)\n",
    "        while True:\n",
    "            left=2*i                # climb down the tree\n",
    "            right=left+1\n",
    "            if (right<n and self.heap[right]<x and self.heap[right]<self.heap[left]):\n",
    "                self.heap[i]=self.heap[right]\n",
    "                self.rank[self.heap[right]]=i           # move right child up\n",
    "                i=right\n",
    "            elif left<n and self.heap[left]<x:\n",
    "                self.heap[i]=self.heap[left]\n",
    "                self.rank[self.heap[left]]=i            # move left child up\n",
    "                i=left\n",
    "            else:\n",
    "                self.heap[i]=x                          # insertion index found\n",
    "                self.rank[x]=i\n",
    "                return\n",
    "    \n",
    "    def update(self,old,new):\n",
    "        i=self.rank[old]            # change value at indexi\n",
    "        del self.rank[old]\n",
    "        self.heap[i]=new\n",
    "        self.rank[new]=i\n",
    "        if old<new:                 # maintain heap order\n",
    "            self.down(i)\n",
    "        else:\n",
    "            self.up(i)\n",
    "            "
   ]
  },
  {
   "cell_type": "markdown",
   "metadata": {},
   "source": [
    "### Union"
   ]
  },
  {
   "cell_type": "code",
   "execution_count": 1,
   "metadata": {},
   "outputs": [],
   "source": [
    "class UnionFind:\n",
    "    def __init__(self, n):\n",
    "        self.up_bound = list(range(n))\n",
    "        self.rank = [0] * n\n",
    "        \n",
    "    def find(self, x_index):\n",
    "        if self.up_bound[x_index] == x_index:\n",
    "            return x_index\n",
    "        self.up_bound[x_index] = self.find(self.up_bound[x_index])\n",
    "        return self.up_bound[x_index]\n",
    "    \n",
    "    def union(self, x_index, y_index):\n",
    "        repr_x = self.find(x_index)\n",
    "        repr_y = self.find(y_index)\n",
    "        if repr_x == repr_y:                # already in the same component\n",
    "            return False\n",
    "        if self.rank[repr_x] == self.rank[repr_y]:\n",
    "            self.rank[repr_x] += 1\n",
    "            self.up_bound[repr_y] = repr_x\n",
    "        elif self.rank[repr_x] > self.rank[repr_y]:\n",
    "            self.up_bound[repr_y] = repr_x\n",
    "        else:\n",
    "            self.up_bound[repr_x] = repr_y\n",
    "        return True\n"
   ]
  },
  {
   "cell_type": "code",
   "execution_count": null,
   "metadata": {},
   "outputs": [],
   "source": [
    "uf = UnionFind(15)\n"
   ]
  }
 ],
 "metadata": {
  "kernelspec": {
   "display_name": "Python 3",
   "language": "python",
   "name": "python3"
  },
  "language_info": {
   "codemirror_mode": {
    "name": "ipython",
    "version": 3
   },
   "file_extension": ".py",
   "mimetype": "text/x-python",
   "name": "python",
   "nbconvert_exporter": "python",
   "pygments_lexer": "ipython3",
   "version": "3.10.11"
  },
  "orig_nbformat": 4
 },
 "nbformat": 4,
 "nbformat_minor": 2
}
