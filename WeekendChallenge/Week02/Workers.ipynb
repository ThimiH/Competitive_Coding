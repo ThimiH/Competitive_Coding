{
 "cells": [
  {
   "cell_type": "code",
   "execution_count": 3,
   "metadata": {},
   "outputs": [
    {
     "name": "stdout",
     "output_type": "stream",
     "text": [
      "Shortest path from node 7 to node 1: [7, 5, 2, 1]\n"
     ]
    }
   ],
   "source": [
    "from collections import deque\n",
    "\n",
    "# Define a tree as an adjacency list\n",
    "# Each node has a list of its neighboring nodes\n",
    "# This represents an unweighted tree\n",
    "tree = {\n",
    "    1: [2, 3],\n",
    "    2: [1,4, 5],\n",
    "    3: [1],\n",
    "    4: [2],\n",
    "    5: [2,6, 7],\n",
    "    6: [5],\n",
    "    7: [5]\n",
    "}\n",
    "\n",
    "def bfs_with_path(tree, start, end):\n",
    "    visited = {}  # To keep track of visited nodes\n",
    "    queue = deque()  # Initialize a queue for BFS\n",
    "\n",
    "    # Initialize the queue with the starting node and its path\n",
    "    queue.append((start, [start]))\n",
    "    visited[start] = True\n",
    "\n",
    "    while queue:\n",
    "        node, path = queue.popleft()  # Dequeue a node and its path\n",
    "\n",
    "        if node == end:\n",
    "            return path  # Return the path when the end node is reached\n",
    "\n",
    "        # Process neighbors of the current node\n",
    "        for neighbor in tree[node]:\n",
    "            if neighbor not in visited:\n",
    "                visited[neighbor] = True\n",
    "                new_path = path + [neighbor]\n",
    "                queue.append((neighbor, new_path))\n",
    "\n",
    "    return None  # Return None if no path is found\n",
    "\n",
    "# Starting and ending nodes for the path\n",
    "start_node = 7\n",
    "end_node = 1\n",
    "\n",
    "# Find the path from start_node to end_node\n",
    "path = bfs_with_path(tree, start_node, end_node)\n",
    "\n",
    "if path:\n",
    "    print(f\"Shortest path from node {start_node} to node {end_node}: {path}\")\n",
    "else:\n",
    "    print(f\"No path found from node {start_node} to node {end_node}\")\n"
   ]
  },
  {
   "cell_type": "code",
   "execution_count": 5,
   "metadata": {},
   "outputs": [
    {
     "name": "stdout",
     "output_type": "stream",
     "text": [
      "{(1, 1): [1], (1, 2): [1, 2], (1, 3): [1, 3], (1, 4): [1, 2, 4], (1, 5): [1, 2, 5], (1, 6): [1, 2, 5, 6], (1, 7): [1, 2, 5, 7], (2, 2): [2], (2, 4): [2, 4], (2, 5): [2, 5], (2, 6): [2, 5, 6], (2, 7): [2, 5, 7], (3, 3): [3], (4, 4): [4], (5, 5): [5], (5, 6): [5, 6], (5, 7): [5, 7], (6, 6): [6], (7, 7): [7]}\n",
      "Shortest path from node 1 to node 1: [1]\n",
      "Shortest path from node 1 to node 2: [1, 2]\n",
      "Shortest path from node 1 to node 3: [1, 3]\n",
      "Shortest path from node 1 to node 4: [1, 2, 4]\n",
      "Shortest path from node 1 to node 5: [1, 2, 5]\n",
      "Shortest path from node 1 to node 6: [1, 2, 5, 6]\n",
      "Shortest path from node 1 to node 7: [1, 2, 5, 7]\n",
      "Shortest path from node 2 to node 2: [2]\n",
      "Shortest path from node 2 to node 4: [2, 4]\n",
      "Shortest path from node 2 to node 5: [2, 5]\n",
      "Shortest path from node 2 to node 6: [2, 5, 6]\n",
      "Shortest path from node 2 to node 7: [2, 5, 7]\n",
      "Shortest path from node 3 to node 3: [3]\n",
      "Shortest path from node 4 to node 4: [4]\n",
      "Shortest path from node 5 to node 5: [5]\n",
      "Shortest path from node 5 to node 6: [5, 6]\n",
      "Shortest path from node 5 to node 7: [5, 7]\n",
      "Shortest path from node 6 to node 6: [6]\n",
      "Shortest path from node 7 to node 7: [7]\n"
     ]
    }
   ],
   "source": [
    "from collections import deque\n",
    "\n",
    "# Define a tree as an adjacency list\n",
    "# Each node has a list of its neighboring nodes\n",
    "# This represents an unweighted tree\n",
    "tree = {\n",
    "    1: [2, 3],\n",
    "    2: [4, 5],\n",
    "    3: [],\n",
    "    4: [],\n",
    "    5: [6, 7],\n",
    "    6: [],\n",
    "    7: []\n",
    "}\n",
    "\n",
    "def bfs_with_paths(tree):\n",
    "    all_paths = {}  # To store all shortest paths between nodes\n",
    "\n",
    "    for start_node in tree.keys():\n",
    "        visited = {}  # To keep track of visited nodes\n",
    "        queue = deque()  # Initialize a queue for BFS\n",
    "\n",
    "        # Initialize the queue with the current start node and an empty path\n",
    "        queue.append((start_node, []))\n",
    "        visited[start_node] = True\n",
    "\n",
    "        while queue:\n",
    "            node, path = queue.popleft()  # Dequeue a node and its path\n",
    "\n",
    "            # Store the path from the start_node to the current node\n",
    "            all_paths[(start_node, node)] = path + [node]\n",
    "\n",
    "            # Process neighbors of the current node\n",
    "            for neighbor in tree[node]:\n",
    "                if neighbor not in visited:\n",
    "                    visited[neighbor] = True\n",
    "                    new_path = path + [node]\n",
    "                    queue.append((neighbor, new_path))\n",
    "\n",
    "    return all_paths\n",
    "\n",
    "# Find all shortest paths in the tree\n",
    "all_shortest_paths = bfs_with_paths(tree)\n",
    "\n",
    "print(all_shortest_paths)\n",
    "\n",
    "# Print all shortest paths\n",
    "for (start_node, end_node), path in all_shortest_paths.items():\n",
    "    print(f\"Shortest path from node {start_node} to node {end_node}: {path}\")\n"
   ]
  },
  {
   "cell_type": "code",
   "execution_count": 7,
   "metadata": {},
   "outputs": [
    {
     "name": "stdout",
     "output_type": "stream",
     "text": [
      "[7]\n"
     ]
    }
   ],
   "source": [
    "import bisect\n",
    "\n",
    "def insert_sorted(lst, item):\n",
    "    bisect.insort_left(lst, item)\n",
    "\n",
    "my_list = []\n",
    "\n",
    "# Insert a new item while keeping the list sorted using binary search\n",
    "new_item = 7\n",
    "insert_sorted(my_list, new_item)\n",
    "\n",
    "print(my_list)  # Output: [3, 6, 7, 9, 12, 15]\n"
   ]
  }
 ],
 "metadata": {
  "kernelspec": {
   "display_name": "Python 3",
   "language": "python",
   "name": "python3"
  },
  "language_info": {
   "codemirror_mode": {
    "name": "ipython",
    "version": 3
   },
   "file_extension": ".py",
   "mimetype": "text/x-python",
   "name": "python",
   "nbconvert_exporter": "python",
   "pygments_lexer": "ipython3",
   "version": "3.10.11"
  },
  "orig_nbformat": 4
 },
 "nbformat": 4,
 "nbformat_minor": 2
}
