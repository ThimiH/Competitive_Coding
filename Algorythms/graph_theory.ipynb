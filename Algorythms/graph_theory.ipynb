{
 "cells": [
  {
   "cell_type": "markdown",
   "metadata": {},
   "source": [
    "# Graph theory algorythms"
   ]
  },
  {
   "cell_type": "markdown",
   "metadata": {},
   "source": [
    "### Depth-First Search"
   ]
  },
  {
   "cell_type": "code",
   "execution_count": 2,
   "metadata": {},
   "outputs": [],
   "source": [
    "# graph is a dictionary of lists\n",
    "# start is the starting node\n",
    "# visited is a set of visited nodes\n",
    "\n",
    "def dfs(graph, start, visited=None):\n",
    "    if visited is None:\n",
    "        visited = set()\n",
    "    if start not in visited:\n",
    "        visited.add(start)\n",
    "        for node in graph[start]:\n",
    "            dfs(graph, node, visited)\n",
    "    return visited"
   ]
  },
  {
   "cell_type": "markdown",
   "metadata": {},
   "source": [
    "### Breadth-First Search"
   ]
  },
  {
   "cell_type": "code",
   "execution_count": 1,
   "metadata": {},
   "outputs": [],
   "source": [
    "from collections import deque\n",
    "\n",
    "# graph is a dictionary of sets\n",
    "# start is the starting node\n",
    "# visited is a set of visited nodes\n",
    "\n",
    "def bfs(graph, start):\n",
    "    visited, queue = set(), deque([start])\n",
    "    while queue:\n",
    "        vertex = queue.popleft()\n",
    "        if vertex not in visited:\n",
    "            visited.add(vertex)\n",
    "            queue.extend(graph[vertex] - visited)\n",
    "    return visited"
   ]
  },
  {
   "cell_type": "markdown",
   "metadata": {},
   "source": [
    "## Shortest Path"
   ]
  },
  {
   "cell_type": "markdown",
   "metadata": {},
   "source": [
    "### Bellman–Ford Algorithm"
   ]
  },
  {
   "cell_type": "markdown",
   "metadata": {},
   "source": [
    "The `bellman_ford` function implements the Bellman-Ford algorithm, which finds the shortest paths from a starting node to all other nodes in a weighted graph. \n",
    "\n",
    "#### Input:\n",
    "- [`graph`]: A dictionary where keys are nodes and values are dictionaries of neighboring nodes with edge weights. For example:\n",
    "  ```python\n",
    "  graph = {\n",
    "      'A': {'B': 1, 'C': 4},\n",
    "      'B': {'C': 2, 'D': 2},\n",
    "      'C': {'D': 3},\n",
    "      'D': {}\n",
    "  }\n",
    "  ```\n",
    "- [`start`]: The starting node from which to calculate the shortest paths. For example:\n",
    "  ```python\n",
    "  start = 'A'\n",
    "  ```\n",
    "\n",
    "#### Output:\n",
    "- `distance`: A dictionary where keys are nodes and values are the shortest distance from the start node. For example:\n",
    "  ```python\n",
    "  {'A': 0, 'B': 1, 'C': 3, 'D': 3}\n",
    "  ```\n",
    "- `predecessor`: A dictionary where keys are nodes and values are the predecessor nodes in the shortest path. For example:\n",
    "  ```python\n",
    "  {'A': None, 'B': 'A', 'C': 'B', 'D': 'B'}\n",
    "  ```"
   ]
  },
  {
   "cell_type": "code",
   "execution_count": 3,
   "metadata": {},
   "outputs": [],
   "source": [
    "def bellman_ford(graph, start):\n",
    "    distance, predecessor = dict(), dict()\n",
    "    for node in graph:\n",
    "        distance[node], predecessor[node] = float('inf'), None\n",
    "    distance[start] = 0\n",
    "    for _ in range(len(graph) - 1):\n",
    "        for node in graph:\n",
    "            for neighbour in graph[node]:\n",
    "                if distance[neighbour] > distance[node] + graph[node][neighbour]:\n",
    "                    distance[neighbour] = distance[node] + graph[node][neighbour]\n",
    "                    predecessor[neighbour] = node\n",
    "    for node in graph:\n",
    "        for neighbour in graph[node]:\n",
    "            assert distance[neighbour] <= distance[node] + graph[node][neighbour]\n",
    "    return distance, predecessor"
   ]
  },
  {
   "cell_type": "markdown",
   "metadata": {},
   "source": [
    "#### Example Usage:"
   ]
  },
  {
   "cell_type": "code",
   "execution_count": 4,
   "metadata": {},
   "outputs": [
    {
     "name": "stdout",
     "output_type": "stream",
     "text": [
      "Distance: {'A': 0, 'B': 1, 'C': 3, 'D': 3}\n",
      "Predecessor: {'A': None, 'B': 'A', 'C': 'B', 'D': 'B'}\n"
     ]
    }
   ],
   "source": [
    "graph = {\n",
    "    'A': {'B': 1, 'C': 4},\n",
    "    'B': {'C': 2, 'D': 2},\n",
    "    'C': {'D': 3},\n",
    "    'D': {}\n",
    "}\n",
    "start = 'A'\n",
    "distance, predecessor = bellman_ford(graph, start)\n",
    "print(\"Distance:\", distance)\n",
    "print(\"Predecessor:\", predecessor)\n",
    "\n",
    "# Distance: {'A': 0, 'B': 1, 'C': 3, 'D': 3}\n",
    "# Predecessor: {'A': None, 'B': 'A', 'C': 'B', 'D': 'B'}"
   ]
  },
  {
   "cell_type": "markdown",
   "metadata": {},
   "source": [
    "### Dijkstra's Algorythm"
   ]
  },
  {
   "cell_type": "markdown",
   "metadata": {},
   "source": [
    "The `dijkstra` function implements Dijkstra's algorithm to find the shortest paths from a starting node to all other nodes in a weighted graph.\n",
    "\n",
    "#### Input:\n",
    "- `graph`: A dictionary where keys are nodes and values are dictionaries of neighboring nodes with edge weights. For example:\n",
    "  ```python\n",
    "  graph = {\n",
    "      'A': {'B': 1, 'C': 4},\n",
    "      'B': {'C': 2, 'D': 2},\n",
    "      'C': {'D': 3},\n",
    "      'D': {}\n",
    "  }\n",
    "  ```\n",
    "- `start`: The starting node from which to calculate the shortest paths. For example:\n",
    "  ```python\n",
    "  start = 'A'\n",
    "  ```\n",
    "\n",
    "#### Output:\n",
    "- `distance`: A dictionary where keys are nodes and values are the shortest distance from the start node. For example:\n",
    "  ```python\n",
    "  {'A': 0, 'B': 1, 'C': 3, 'D': 3}\n",
    "  ```\n",
    "- `predecessor`: A dictionary where keys are nodes and values are the predecessor nodes in the shortest path. For example:\n",
    "  ```python\n",
    "  {'A': None, 'B': 'A', 'C': 'B', 'D': 'B'}\n",
    "  ```"
   ]
  },
  {
   "cell_type": "code",
   "execution_count": 5,
   "metadata": {},
   "outputs": [],
   "source": [
    "def dijkstra(graph, start):\n",
    "    distance, predecessor = dict(), dict()\n",
    "    for node in graph:\n",
    "        distance[node], predecessor[node] = float('inf'), None\n",
    "    distance[start] = 0\n",
    "    queue = [node for node in graph]\n",
    "    while queue:\n",
    "        current = min(queue, key=lambda node: distance[node])\n",
    "        queue.remove(current)\n",
    "        for neighbour in graph[current]:\n",
    "            alt = distance[current] + graph[current][neighbour]\n",
    "            if alt < distance[neighbour]:\n",
    "                distance[neighbour], predecessor[neighbour] = alt, current\n",
    "    return distance, predecessor"
   ]
  },
  {
   "cell_type": "markdown",
   "metadata": {},
   "source": [
    "#### Example Usage:"
   ]
  },
  {
   "cell_type": "code",
   "execution_count": 6,
   "metadata": {},
   "outputs": [
    {
     "name": "stdout",
     "output_type": "stream",
     "text": [
      "Distance: {'A': 0, 'B': 1, 'C': 3, 'D': 3}\n",
      "Predecessor: {'A': None, 'B': 'A', 'C': 'B', 'D': 'B'}\n"
     ]
    }
   ],
   "source": [
    "graph = {\n",
    "    'A': {'B': 1, 'C': 4},\n",
    "    'B': {'C': 2, 'D': 2},\n",
    "    'C': {'D': 3},\n",
    "    'D': {}\n",
    "}\n",
    "start = 'A'\n",
    "distance, predecessor = dijkstra(graph, start)\n",
    "print(\"Distance:\", distance)\n",
    "print(\"Predecessor:\", predecessor)\n",
    "\n",
    "# Distance: {'A': 0, 'B': 1, 'C': 3, 'D': 3}\n",
    "# Predecessor: {'A': None, 'B': 'A', 'C': 'B', 'D': 'B'}"
   ]
  }
 ],
 "metadata": {
  "kernelspec": {
   "display_name": "Python 3",
   "language": "python",
   "name": "python3"
  },
  "language_info": {
   "codemirror_mode": {
    "name": "ipython",
    "version": 3
   },
   "file_extension": ".py",
   "mimetype": "text/x-python",
   "name": "python",
   "nbconvert_exporter": "python",
   "pygments_lexer": "ipython3",
   "version": "3.12.0"
  }
 },
 "nbformat": 4,
 "nbformat_minor": 2
}
