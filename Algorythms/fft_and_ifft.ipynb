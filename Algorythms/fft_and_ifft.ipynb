{
 "cells": [
  {
   "cell_type": "markdown",
   "metadata": {},
   "source": [
    "### FFT algorythm "
   ]
  },
  {
   "cell_type": "code",
   "execution_count": 28,
   "metadata": {},
   "outputs": [],
   "source": [
    "# FFT algorythm using python buit in functions\n",
    "\n",
    "from cmath import exp, pi\n",
    "\n",
    "def zero_padding(x):\n",
    "    N = len(x)\n",
    "    n = 1\n",
    "    while n < N:\n",
    "        n *= 2\n",
    "    return [0]*(n - N)+x\n",
    "\n",
    "def zero_padding_N(x,N):\n",
    "    n = 1\n",
    "    while n < N:\n",
    "        n *= 2\n",
    "    return [0]*(n - N)+x\n",
    "\n",
    "def fft(x):\n",
    "    x = zero_padding(x)\n",
    "    N = len(x)\n",
    "    if N <= 1:\n",
    "        return x\n",
    "    even = fft(x[0::2])\n",
    "    odd =  fft(x[1::2])\n",
    "    T = [exp(-2j*pi*k/N)*odd[k] for k in range(N//2)]\n",
    "    return [even[k] + T[k] for k in range(N//2)] + [even[k] - T[k] for k in range(N//2)]"
   ]
  },
  {
   "cell_type": "markdown",
   "metadata": {},
   "source": [
    "### IFFT algorythm"
   ]
  },
  {
   "cell_type": "code",
   "execution_count": 56,
   "metadata": {},
   "outputs": [],
   "source": [
    "### IFFT algorythm using python buit in functions\n",
    "\n",
    "def abs_fix(x):\n",
    "    l = len(x)\n",
    "    return [round(abs(x[i])) for i in range(len(x))]\n",
    "\n",
    "def ifft(x):\n",
    "    N = len(x)\n",
    "    if N <= 1:\n",
    "        return x\n",
    "    even = ifft(x[0::2])\n",
    "    odd =  ifft(x[1::2])\n",
    "    T = [exp(2j*pi*k/N)*odd[k] for k in range(N//2)]\n",
    "    return [(even[k] + T[k]) for k in range(N//2)] + [(even[k] - T[k]) for k in range(N//2)]"
   ]
  },
  {
   "cell_type": "code",
   "execution_count": 23,
   "metadata": {},
   "outputs": [
    {
     "name": "stdout",
     "output_type": "stream",
     "text": [
      "Original array:  [1, 2, 3, 4, 5, 6, 7]\n",
      "FFT:  [(28+0j), (-4+9.65685424949238j), (-4+4j), (-4+1.6568542494923797j), (-4+0j), (-4-1.6568542494923806j), (-3.9999999999999996-4j), (-3.9999999999999987-9.65685424949238j)]\n",
      "IFFT:  [(1.7763568394002505e-15-8.881784197001252e-16j), (8+4.5769509808878667e-17j), (16-7.966394000823679e-16j), (24+1.7305873295913717e-15j), (32+8.881784197001252e-16j), (40+4.5769509808878667e-17j), (48+7.966394000823679e-16j), (56-1.8221263492091292e-15j)]\n",
      "l =  8\n",
      "1.9860273225978185e-15\n",
      "8.0\n",
      "16.0\n",
      "24.0\n",
      "32.0\n",
      "40.0\n",
      "48.0\n",
      "56.0\n",
      "IFFT:  [0, 1, 2, 3, 4, 5, 6, 7]\n"
     ]
    }
   ],
   "source": [
    "array = [1, 2, 3, 4, 5, 6, 7]\n",
    "print(\"Original array: \", array)\n",
    "print(\"FFT: \", fft(array))\n",
    "print(\"IFFT: \", ifft(fft(array)))\n",
    "print(\"IFFT: \", abs_fix(ifft(fft(array))))"
   ]
  },
  {
   "cell_type": "code",
   "execution_count": 37,
   "metadata": {},
   "outputs": [],
   "source": [
    "def convolution(x, y):\n",
    "    # convolution of two arrays without usin fft\n",
    "    N = len(x)\n",
    "    M = len(y)\n",
    "    result = [0]*(N+M-1)\n",
    "    for i in range(N):\n",
    "        for j in range(M):\n",
    "            result[i+j] += x[i]*y[j]\n",
    "    return result"
   ]
  },
  {
   "cell_type": "code",
   "execution_count": 78,
   "metadata": {},
   "outputs": [],
   "source": [
    "def resolve_numbers(x):\n",
    "    ans = 0\n",
    "    for i in range(len(x)):\n",
    "        ans += ans*10 + x[i]\n",
    "    return ans\n",
    "\n",
    "def multiply(x, y):\n",
    "    X = fft(x)\n",
    "    X = [a/(len(X)**0.5) for a in X]\n",
    "    Y = fft(y)\n",
    "    Y = [a/(len(Y)**0.5) for a in Y]\n",
    "    Z = convolution(X, Y)\n",
    "    print(\"Z: \", Z)\n",
    "    Z = zero_padding(Z)\n",
    "    z = ifft(Z)\n",
    "    z = abs_fix(z)\n",
    "    ans = resolve_numbers(z)\n",
    "    return ans"
   ]
  },
  {
   "cell_type": "code",
   "execution_count": 79,
   "metadata": {},
   "outputs": [
    {
     "name": "stdout",
     "output_type": "stream",
     "text": [
      "Z:  [(22.5+0j), (-15+10.5j), (-13.5-3.5j), (-10-14j), (9.5+0j), (5+3.5j), (1.4999999999999996+3.5j)]\n"
     ]
    },
    {
     "data": {
      "text/plain": [
       "5687831"
      ]
     },
     "execution_count": 79,
     "metadata": {},
     "output_type": "execute_result"
    }
   ],
   "source": [
    "multiply([1, 2, 3], [4, 5, 6])"
   ]
  },
  {
   "cell_type": "code",
   "execution_count": 64,
   "metadata": {},
   "outputs": [
    {
     "data": {
      "text/plain": [
       "56088"
      ]
     },
     "execution_count": 64,
     "metadata": {},
     "output_type": "execute_result"
    }
   ],
   "source": [
    "123*456"
   ]
  },
  {
   "cell_type": "code",
   "execution_count": 17,
   "metadata": {},
   "outputs": [],
   "source": [
    "import cmath\n",
    "\n",
    "def fft(a, d=1):\n",
    "    n = len(a)\n",
    "    r = [0] * n\n",
    "    \n",
    "    # Bit-reversal permutation\n",
    "    for k in range(n):\n",
    "        b = 0\n",
    "        z = 1\n",
    "        while z < n:\n",
    "            b *= 2\n",
    "            if k & z:\n",
    "                b += 1\n",
    "            z *= 2\n",
    "        r[b] = a[k]\n",
    "    \n",
    "    # FFT\n",
    "    m = 2\n",
    "    while m <= n:\n",
    "        wm = cmath.exp(complex(0, d * 2 * cmath.pi / m))\n",
    "        for k in range(0, n, m):\n",
    "            w = 1\n",
    "            for j in range(m // 2):\n",
    "                u = r[k + j]\n",
    "                t = w * r[k + j + m // 2]\n",
    "                r[k + j] = u + t\n",
    "                r[k + j + m // 2] = u - t\n",
    "                w *= wm\n",
    "        m *= 2\n",
    "    \n",
    "    # Normalize if inverse FFT\n",
    "    if d == -1:\n",
    "        for i in range(n):\n",
    "            r[i] /= n\n",
    "    \n",
    "    return r\n",
    "\n",
    "def convolution(a, b):\n",
    "    # convolution using dp\n",
    "    n = len(a)\n",
    "    m = len(b)\n",
    "    c = [0] * (n + m - 1)\n",
    "    for i in range(n):\n",
    "        for j in range(m):\n",
    "            c[i + j] += a[i] * b[j]\n",
    "    return c\n",
    "\n",
    "def zero_padding(x):\n",
    "    n = 1\n",
    "    while n < len(x):\n",
    "        n *= 2\n",
    "    return [0] * (n - len(x)) + x"
   ]
  },
  {
   "cell_type": "code",
   "execution_count": 19,
   "metadata": {},
   "outputs": [
    {
     "name": "stdout",
     "output_type": "stream",
     "text": [
      "35 35\n",
      "26 26\n"
     ]
    }
   ],
   "source": [
    "import random\n",
    "\n",
    "# random integer array\n",
    "array = [random.randint(0, 100) for x in range(2**1)]\n",
    "\n",
    "for i,num in enumerate(fft(fft(array,1),-1)):\n",
    "    print(array[i],round(abs(num)))"
   ]
  },
  {
   "cell_type": "code",
   "execution_count": 20,
   "metadata": {},
   "outputs": [
    {
     "data": {
      "text/plain": [
       "799548445095451236"
      ]
     },
     "execution_count": 20,
     "metadata": {},
     "output_type": "execute_result"
    }
   ],
   "source": [
    "num1 = 1492342\n",
    "num2 = 535767568758\n",
    "num1*num2"
   ]
  },
  {
   "cell_type": "code",
   "execution_count": null,
   "metadata": {},
   "outputs": [],
   "source": []
  }
 ],
 "metadata": {
  "kernelspec": {
   "display_name": "Python 3",
   "language": "python",
   "name": "python3"
  },
  "language_info": {
   "codemirror_mode": {
    "name": "ipython",
    "version": 3
   },
   "file_extension": ".py",
   "mimetype": "text/x-python",
   "name": "python",
   "nbconvert_exporter": "python",
   "pygments_lexer": "ipython3",
   "version": "3.12.0"
  }
 },
 "nbformat": 4,
 "nbformat_minor": 2
}
