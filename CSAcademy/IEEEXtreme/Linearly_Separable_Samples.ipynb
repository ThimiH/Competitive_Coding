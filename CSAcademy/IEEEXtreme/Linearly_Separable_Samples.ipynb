{
 "cells": [
  {
   "cell_type": "code",
   "execution_count": 3,
   "metadata": {},
   "outputs": [
    {
     "ename": "ModuleNotFoundError",
     "evalue": "No module named 'scipy'",
     "output_type": "error",
     "traceback": [
      "\u001b[1;31m---------------------------------------------------------------------------\u001b[0m",
      "\u001b[1;31mModuleNotFoundError\u001b[0m                       Traceback (most recent call last)",
      "\u001b[1;32md:\\Competitive Coding\\DSA\\Competitive_Coding\\CSAcademy\\IEEEXtreme\\Linearly_Separable_Samples.ipynb Cell 1\u001b[0m line \u001b[0;36m2\n\u001b[0;32m      <a href='vscode-notebook-cell:/d%3A/Competitive%20Coding/DSA/Competitive_Coding/CSAcademy/IEEEXtreme/Linearly_Separable_Samples.ipynb#W0sZmlsZQ%3D%3D?line=0'>1</a>\u001b[0m \u001b[39mimport\u001b[39;00m \u001b[39mnumpy\u001b[39;00m \u001b[39mas\u001b[39;00m \u001b[39mnp\u001b[39;00m\n\u001b[1;32m----> <a href='vscode-notebook-cell:/d%3A/Competitive%20Coding/DSA/Competitive_Coding/CSAcademy/IEEEXtreme/Linearly_Separable_Samples.ipynb#W0sZmlsZQ%3D%3D?line=1'>2</a>\u001b[0m \u001b[39mfrom\u001b[39;00m \u001b[39mscipy\u001b[39;00m\u001b[39m.\u001b[39;00m\u001b[39mspatial\u001b[39;00m \u001b[39mimport\u001b[39;00m ConvexHull\n\u001b[0;32m      <a href='vscode-notebook-cell:/d%3A/Competitive%20Coding/DSA/Competitive_Coding/CSAcademy/IEEEXtreme/Linearly_Separable_Samples.ipynb#W0sZmlsZQ%3D%3D?line=2'>3</a>\u001b[0m \u001b[39mimport\u001b[39;00m \u001b[39mmatplotlib\u001b[39;00m\u001b[39m.\u001b[39;00m\u001b[39mpyplot\u001b[39;00m \u001b[39mas\u001b[39;00m \u001b[39mplt\u001b[39;00m\n\u001b[0;32m      <a href='vscode-notebook-cell:/d%3A/Competitive%20Coding/DSA/Competitive_Coding/CSAcademy/IEEEXtreme/Linearly_Separable_Samples.ipynb#W0sZmlsZQ%3D%3D?line=4'>5</a>\u001b[0m \u001b[39m# Sample data (replace with your data)\u001b[39;00m\n",
      "\u001b[1;31mModuleNotFoundError\u001b[0m: No module named 'scipy'"
     ]
    }
   ],
   "source": [
    "import numpy as np\n",
    "from scipy.spatial import ConvexHull\n",
    "import matplotlib.pyplot as plt\n",
    "\n",
    "# Sample data (replace with your data)\n",
    "Set_A = np.array([[2, 3], [3, 4], [4, 5]])\n",
    "Set_B = np.array([[1, 1], [2, 2], [3, 3]])\n",
    "\n",
    "# Create arrays to hold all points\n",
    "points = np.concatenate((Set_A, Set_B))\n",
    "\n",
    "# Calculate the convex hulls for both sets\n",
    "hull_A = ConvexHull(Set_A)\n",
    "hull_B = ConvexHull(Set_B)\n",
    "\n",
    "# Plot the convex hulls\n",
    "plt.plot(Set_A[:,0], Set_A[:,1], 'o', label='Set A')\n",
    "for simplex in hull_A.simplices:\n",
    "    plt.plot(Set_A[simplex, 0], Set_A[simplex, 1], 'k-')\n",
    "\n",
    "plt.plot(Set_B[:,0], Set_B[:,1], 'o', label='Set B')\n",
    "for simplex in hull_B.simplices:\n",
    "    plt.plot(Set_B[simplex, 0], Set_B[simplex, 1], 'r-')\n",
    "\n",
    "plt.legend()\n",
    "plt.show()\n",
    "\n",
    "# Check if the convex hulls do not overlap\n",
    "if not any(np.all(point in Set_A for point in Set_B)) and not any(np.all(point in Set_B for point in Set_A)):\n",
    "    print(\"The two sets are linearly separable as their convex hulls do not overlap.\")\n",
    "else:\n",
    "    print(\"The two sets are not linearly separable as their convex hulls overlap.\")\n"
   ]
  }
 ],
 "metadata": {
  "kernelspec": {
   "display_name": "Python 3",
   "language": "python",
   "name": "python3"
  },
  "language_info": {
   "codemirror_mode": {
    "name": "ipython",
    "version": 3
   },
   "file_extension": ".py",
   "mimetype": "text/x-python",
   "name": "python",
   "nbconvert_exporter": "python",
   "pygments_lexer": "ipython3",
   "version": "3.10.11"
  }
 },
 "nbformat": 4,
 "nbformat_minor": 2
}
