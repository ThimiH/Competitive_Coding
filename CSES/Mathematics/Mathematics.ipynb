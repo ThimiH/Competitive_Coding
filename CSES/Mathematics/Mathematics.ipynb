{
 "cells": [
  {
   "cell_type": "markdown",
   "metadata": {},
   "source": [
    "### Throwing Dice"
   ]
  },
  {
   "cell_type": "code",
   "execution_count": 11,
   "metadata": {},
   "outputs": [
    {
     "name": "stdout",
     "output_type": "stream",
     "text": [
      "1 1 2 4 8 16 32 63 125 248 492 976 1936 3840 7617 15109 29970 59448 117920 233904 463968 "
     ]
    }
   ],
   "source": [
    "lim = 21\n",
    "dp = [0]*lim\n",
    "\n",
    "for i in range(7):\n",
    "    dp[i] = 1\n",
    "\n",
    "for i in range(1,lim):\n",
    "    for j in range(1,min(7,i)):\n",
    "        dp[i]+=dp[i-j]\n",
    "\n",
    "for ind,val in enumerate(dp[1:]):\n",
    "    # print(ind,val,2**(ind-1)-val)\n",
    "    print(val,end=\" \")"
   ]
  },
  {
   "cell_type": "code",
   "execution_count": 12,
   "metadata": {},
   "outputs": [
    {
     "name": "stdout",
     "output_type": "stream",
     "text": [
      "Number of ways to get a sum of 10 by rolling the die 3 times: 10\n"
     ]
    }
   ],
   "source": [
    "import sympy as sp\n",
    "\n",
    "# Define the generating function G(x)\n",
    "x = sp.symbols('x')\n",
    "Gx = x + x**2 + x**3 + x**4 + x**5 + x**6\n",
    "\n",
    "# Function to calculate the coefficient of x^n in G(x)^n\n",
    "def coefficient_in_expansion(n):\n",
    "    expanded_expression = Gx**n\n",
    "    term = sp.Poly(expanded_expression, x)\n",
    "    coefficient = term.coeffs()[n]\n",
    "    return coefficient\n",
    "\n",
    "# Example: Find the number of ways to get a sum of 10 by rolling the die three times\n",
    "n = 3\n",
    "desired_sum = 10\n",
    "ways_to_sum = coefficient_in_expansion(n)\n",
    "print(f\"Number of ways to get a sum of {desired_sum} by rolling the die {n} times: {ways_to_sum}\")\n"
   ]
  },
  {
   "cell_type": "markdown",
   "metadata": {},
   "source": [
    "### Prime Multiples"
   ]
  },
  {
   "cell_type": "code",
   "execution_count": null,
   "metadata": {},
   "outputs": [],
   "source": []
  }
 ],
 "metadata": {
  "kernelspec": {
   "display_name": "Python 3",
   "language": "python",
   "name": "python3"
  },
  "language_info": {
   "codemirror_mode": {
    "name": "ipython",
    "version": 3
   },
   "file_extension": ".py",
   "mimetype": "text/x-python",
   "name": "python",
   "nbconvert_exporter": "python",
   "pygments_lexer": "ipython3",
   "version": "3.10.11"
  }
 },
 "nbformat": 4,
 "nbformat_minor": 2
}
