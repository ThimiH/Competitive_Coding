{
 "cells": [
  {
   "cell_type": "markdown",
   "metadata": {},
   "source": [
    "### Throwing Dice"
   ]
  },
  {
   "cell_type": "code",
   "execution_count": 11,
   "metadata": {},
   "outputs": [
    {
     "name": "stdout",
     "output_type": "stream",
     "text": [
      "1 1 2 4 8 16 32 63 125 248 492 976 1936 3840 7617 15109 29970 59448 117920 233904 463968 "
     ]
    }
   ],
   "source": [
    "lim = 21\n",
    "dp = [0]*lim\n",
    "\n",
    "for i in range(7):\n",
    "    dp[i] = 1\n",
    "\n",
    "for i in range(1,lim):\n",
    "    for j in range(1,min(7,i)):\n",
    "        dp[i]+=dp[i-j]\n",
    "\n",
    "for ind,val in enumerate(dp[1:]):\n",
    "    # print(ind,val,2**(ind-1)-val)\n",
    "    print(val,end=\" \")"
   ]
  },
  {
   "cell_type": "code",
   "execution_count": 12,
   "metadata": {},
   "outputs": [
    {
     "name": "stdout",
     "output_type": "stream",
     "text": [
      "Number of ways to get a sum of 10 by rolling the die 3 times: 10\n"
     ]
    }
   ],
   "source": [
    "import sympy as sp\n",
    "\n",
    "# Define the generating function G(x)\n",
    "x = sp.symbols('x')\n",
    "Gx = x + x**2 + x**3 + x**4 + x**5 + x**6\n",
    "\n",
    "# Function to calculate the coefficient of x^n in G(x)^n\n",
    "def coefficient_in_expansion(n):\n",
    "    expanded_expression = Gx**n\n",
    "    term = sp.Poly(expanded_expression, x)\n",
    "    coefficient = term.coeffs()[n]\n",
    "    return coefficient\n",
    "\n",
    "# Example: Find the number of ways to get a sum of 10 by rolling the die three times\n",
    "n = 3\n",
    "desired_sum = 10\n",
    "ways_to_sum = coefficient_in_expansion(n)\n",
    "print(f\"Number of ways to get a sum of {desired_sum} by rolling the die {n} times: {ways_to_sum}\")\n"
   ]
  },
  {
   "cell_type": "markdown",
   "metadata": {},
   "source": [
    "### Prime Multiples"
   ]
  },
  {
   "cell_type": "code",
   "execution_count": null,
   "metadata": {},
   "outputs": [],
   "source": []
  },
  {
   "cell_type": "markdown",
   "metadata": {},
   "source": []
  },
  {
   "cell_type": "markdown",
   "metadata": {},
   "source": [
    "### Dice Probabilities"
   ]
  },
  {
   "cell_type": "code",
   "execution_count": 16,
   "metadata": {},
   "outputs": [
    {
     "name": "stdout",
     "output_type": "stream",
     "text": [
      "1 1 1 1 1 1 \n",
      " 6 \n",
      "\n",
      "1 2 3 4 5 6 5 4 3 2 1 \n",
      " 11 \n",
      "\n",
      "1 3 6 10 15 21 25 27 27 25 21 15 10 6 3 1 \n",
      " 16 \n",
      "\n",
      "1 4 10 20 35 56 80 104 125 140 146 140 125 104 80 56 35 20 10 4 1 \n",
      " 21 \n",
      "\n",
      "1 5 15 35 70 126 205 305 420 540 651 735 780 780 735 651 540 420 305 205 126 70 35 15 5 1 \n",
      " 26 \n",
      "\n",
      "1 6 21 56 126 252 456 756 1161 1666 2247 2856 3431 3906 4221 4332 4221 3906 3431 2856 2247 1666 1161 756 456 252 126 56 21 6 1 \n",
      " 31 \n",
      "\n"
     ]
    }
   ],
   "source": [
    "a = 6\n",
    "\n",
    "for n in range(1,a+1):\n",
    "\n",
    "    total_count = {}\n",
    "\n",
    "    for i in range(n,6*n+1):\n",
    "        total_count[i] = 0\n",
    "\n",
    "    def roll_the_dice(rolls,total,current_rolls):\n",
    "        global total_count\n",
    "        if rolls == current_rolls:\n",
    "            total_count[total] += 1\n",
    "            return 0\n",
    "        for i in range(1,7):\n",
    "            roll_the_dice(rolls,total+i,current_rolls+1)\n",
    "\n",
    "    roll_the_dice(n,0,0)\n",
    "\n",
    "    for total,count in total_count.items():\n",
    "        print(count,end=\" \")\n",
    "    \n",
    "    print(\"\\n\",len(total_count.values()),\"\\n\")"
   ]
  },
  {
   "cell_type": "code",
   "execution_count": 28,
   "metadata": {},
   "outputs": [
    {
     "name": "stdout",
     "output_type": "stream",
     "text": [
      "[1, 1, 1, 1, 1, 1]\n",
      "[1, 2, 3, 4, 5, 6, 5, 4, 3, 2, 1]\n",
      "[1, 3, 6, 10, 15, 21, 26, 30, 30, 26, 21, 15, 10, 6, 3, 1]\n",
      "[1, 4, 10, 20, 35, 56, 82, 112, 142, 168, 189, 168, 142, 112, 82, 56, 35, 20, 10, 4, 1]\n",
      "[1, 5, 15, 35, 70, 126, 208, 320, 462, 630, 819, 987, 1129, 1129, 987, 819, 630, 462, 320, 208, 126, 70, 35, 15, 5, 1]\n"
     ]
    }
   ],
   "source": [
    "dp = []\n",
    "k = 5\n",
    "\n",
    "for i in range(1,k+1):\n",
    "    dp.append([1]*(5*i+1))\n",
    "\n",
    "for i in range(1,k):\n",
    "    c = 5*i+6\n",
    "    for j in range(1,(c+1)//2):\n",
    "        dp[i][j] = dp[i][j-1]+dp[i-1][j]\n",
    "    for j in range((c+1)//2,c):\n",
    "        dp[i][j] = dp[i][-j-1]\n",
    "\n",
    "for line in dp:\n",
    "    print(line)\n"
   ]
  },
  {
   "cell_type": "code",
   "execution_count": 1,
   "metadata": {},
   "outputs": [
    {
     "name": "stdout",
     "output_type": "stream",
     "text": [
      "Expected maximum number of candies: 0.9999999999999999\n"
     ]
    }
   ],
   "source": [
    "def expected_maximum_candies(n, k):\n",
    "    expected_max = 0\n",
    "    for x in range(1, k + 1):\n",
    "        p_at_least_x = sum(1 / k for _ in range(x, k + 1))\n",
    "        expected_max = max(expected_max, p_at_least_x)\n",
    "    return expected_max\n",
    "\n",
    "n = 5  # Number of children\n",
    "k = 10  # Maximum number of candies\n",
    "result = expected_maximum_candies(n, k)\n",
    "print(f\"Expected maximum number of candies: {result}\")\n"
   ]
  },
  {
   "cell_type": "markdown",
   "metadata": {},
   "source": [
    "### Test"
   ]
  }
 ],
 "metadata": {
  "kernelspec": {
   "display_name": "Python 3",
   "language": "python",
   "name": "python3"
  },
  "language_info": {
   "codemirror_mode": {
    "name": "ipython",
    "version": 3
   },
   "file_extension": ".py",
   "mimetype": "text/x-python",
   "name": "python",
   "nbconvert_exporter": "python",
   "pygments_lexer": "ipython3",
   "version": "3.10.11"
  }
 },
 "nbformat": 4,
 "nbformat_minor": 2
}
