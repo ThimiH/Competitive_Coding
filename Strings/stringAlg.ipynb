{
 "cells": [
  {
   "cell_type": "markdown",
   "metadata": {},
   "source": [
    "### Anagrams"
   ]
  },
  {
   "cell_type": "code",
   "execution_count": null,
   "metadata": {},
   "outputs": [],
   "source": [
    "def anagrams(S): # S is a set of strings\n",
    "    d={}                                # maps s to list of words with signature s\n",
    "    for word in S:                      # group words according to the signature\n",
    "        s = \"\".join(sorted(word))       # calculate the signature\n",
    "        if s in d:\n",
    "            d[s].append(word)           # append a word to an existing signature\n",
    "        else:\n",
    "            d[s] = [word]               # add a new signature and its first word\n",
    "    \n",
    "    #-- extract anagrams, ingoring anagram groups of size 1\n",
    "    return [d[s] for s in d if len(d[s]) > 1]"
   ]
  },
  {
   "cell_type": "markdown",
   "metadata": {},
   "source": [
    "### Bayer-Moore"
   ]
  },
  {
   "cell_type": "code",
   "execution_count": 13,
   "metadata": {},
   "outputs": [],
   "source": [
    "def boyer_moore(text, pattern):\n",
    "  \"\"\"\n",
    "  Finds the number of occurrences of the pattern in the text.\n",
    "\n",
    "  Args:\n",
    "    text: The text to search.\n",
    "    pattern: The pattern to search for.\n",
    "\n",
    "  Returns:\n",
    "    The number of occurrences of the pattern in the text.\n",
    "  \"\"\"\n",
    "\n",
    "  # Create a bad character table.\n",
    "  bad_char_table = [-1] * 256\n",
    "  for i, c in enumerate(pattern):\n",
    "    bad_char_table[ord(c)] = len(pattern) - i - 1\n",
    "\n",
    "  # Initialize the current position in the text.\n",
    "  i = len(pattern) - 1\n",
    "  count = 0\n",
    "\n",
    "  while i < len(text):\n",
    "    # Check for a match.\n",
    "    j = 0\n",
    "    while j < len(pattern) and text[i - j] == pattern[-j - 1]:\n",
    "      j += 1\n",
    "\n",
    "    if j == len(pattern):\n",
    "      # Found a match!\n",
    "      count += 1\n",
    "      i += len(pattern) - 1\n",
    "    else:\n",
    "      # No match, move the pattern by the shift amount.\n",
    "      shift = bad_char_table[ord(text[i])]\n",
    "      if shift == -1:\n",
    "        # The character does not exist in the pattern, so we move to the end of the pattern.\n",
    "        shift = len(pattern)\n",
    "      i += shift\n",
    "\n",
    "  return count\n"
   ]
  },
  {
   "cell_type": "code",
   "execution_count": 16,
   "metadata": {},
   "outputs": [
    {
     "name": "stdout",
     "output_type": "stream",
     "text": [
      "2\n"
     ]
    }
   ],
   "source": [
    "text = \"abcracadabrabc\"\n",
    "pattern = \"abc\"\n",
    "\n",
    "count = boyer_moore(text, pattern)\n",
    "\n",
    "print(count)\n"
   ]
  }
 ],
 "metadata": {
  "kernelspec": {
   "display_name": "Python 3",
   "language": "python",
   "name": "python3"
  },
  "language_info": {
   "codemirror_mode": {
    "name": "ipython",
    "version": 3
   },
   "file_extension": ".py",
   "mimetype": "text/x-python",
   "name": "python",
   "nbconvert_exporter": "python",
   "pygments_lexer": "ipython3",
   "version": "3.10.11"
  },
  "orig_nbformat": 4
 },
 "nbformat": 4,
 "nbformat_minor": 2
}
