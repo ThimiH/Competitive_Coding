{
 "cells": [
  {
   "cell_type": "code",
   "execution_count": 1,
   "metadata": {},
   "outputs": [
    {
     "name": "stdout",
     "output_type": "stream",
     "text": [
      "Nim Sum: 14\n"
     ]
    }
   ],
   "source": [
    "def calculate_nim_sum(piles):\n",
    "    nim_sum = 0\n",
    "    \n",
    "    # Convert the number of objects in each pile to binary form and find the nim sum\n",
    "    for pile in piles:\n",
    "        nim_sum ^= pile  # Use XOR (^) to find the nim sum\n",
    "    \n",
    "    return nim_sum\n",
    "\n",
    "# Example usage:\n",
    "piles = [4, 5, 7, 8]\n",
    "nim_sum = calculate_nim_sum(piles)\n",
    "print(\"Nim Sum:\", nim_sum)\n"
   ]
  },
  {
   "cell_type": "code",
   "execution_count": 15,
   "metadata": {},
   "outputs": [
    {
     "name": "stdout",
     "output_type": "stream",
     "text": [
      "50\n",
      "48\n",
      "50\n",
      "44\n",
      "42\n",
      "40\n",
      "42\n",
      "44\n",
      "34\n",
      "32\n",
      "34\n",
      "44\n",
      "42\n",
      "40\n",
      "42\n",
      "44\n",
      "50\n",
      "48\n",
      "50\n",
      "12\n",
      "10\n",
      "8\n",
      "10\n",
      "12\n",
      "2\n",
      "0\n",
      "2\n",
      "12\n",
      "10\n",
      "8\n",
      "10\n",
      "12\n",
      "50\n",
      "48\n",
      "50\n",
      "44\n",
      "42\n",
      "40\n",
      "42\n",
      "44\n",
      "34\n",
      "32\n",
      "34\n",
      "44\n",
      "42\n",
      "40\n",
      "42\n",
      "44\n",
      "50\n",
      "48\n",
      "50\n"
     ]
    }
   ],
   "source": [
    "n = 50\n",
    "\n",
    "\n",
    "for i in range(n+1):\n",
    "    # print(bin(i),bin(n-i),bin(i^(n-i)))\n",
    "    print(i^(n-i))"
   ]
  },
  {
   "cell_type": "code",
   "execution_count": 10,
   "metadata": {},
   "outputs": [
    {
     "name": "stdout",
     "output_type": "stream",
     "text": [
      "Possible values of A: 96\n",
      "Possible values of B: 111\n"
     ]
    }
   ],
   "source": [
    "def find_possible_xor_values(S, XOR_AB):\n",
    "    # Calculate one of the numbers (A or B)\n",
    "    A_or_B = XOR_AB ^ S\n",
    "\n",
    "    # Calculate the other number (A XOR B)\n",
    "    A_xor_B = A_or_B ^ XOR_AB\n",
    "\n",
    "    return A_or_B, A_xor_B\n",
    "\n",
    "# Example usage:\n",
    "S = 111  # The sum of two numbers\n",
    "XOR_AB = 15  # The XOR of the two numbers\n",
    "A, B = find_possible_xor_values(S, XOR_AB)\n",
    "print(\"Possible values of A:\", A)\n",
    "print(\"Possible values of B:\", B)\n"
   ]
  },
  {
   "cell_type": "code",
   "execution_count": 13,
   "metadata": {},
   "outputs": [
    {
     "data": {
      "text/plain": [
       "111"
      ]
     },
     "execution_count": 13,
     "metadata": {},
     "output_type": "execute_result"
    }
   ],
   "source": [
    "67^(111-67)"
   ]
  }
 ],
 "metadata": {
  "kernelspec": {
   "display_name": "Python 3",
   "language": "python",
   "name": "python3"
  },
  "language_info": {
   "codemirror_mode": {
    "name": "ipython",
    "version": 3
   },
   "file_extension": ".py",
   "mimetype": "text/x-python",
   "name": "python",
   "nbconvert_exporter": "python",
   "pygments_lexer": "ipython3",
   "version": "3.10.11"
  },
  "orig_nbformat": 4
 },
 "nbformat": 4,
 "nbformat_minor": 2
}
