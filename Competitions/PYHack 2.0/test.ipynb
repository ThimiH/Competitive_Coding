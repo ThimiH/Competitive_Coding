{
 "cells": [
  {
   "cell_type": "code",
   "execution_count": 10,
   "metadata": {},
   "outputs": [
    {
     "name": "stdout",
     "output_type": "stream",
     "text": [
      "378158756814587\n"
     ]
    }
   ],
   "source": [
    "def compute():\n",
    "\tBASE = 10\n",
    "\tDIGITS = 20\n",
    "\tCONSECUTIVE = 3\n",
    "\tMAX_SUM = 9\n",
    "\t\n",
    "\t# Dynamic programming array, with base case (ways for 0-digit numbers)\n",
    "\tinnerlen = BASE ** CONSECUTIVE\n",
    "\tways = [[1] + [0] * (innerlen - 1)]\n",
    "\t\n",
    "\t# Compute DP table\n",
    "\tfor digits in range(1, DIGITS + CONSECUTIVE + 1):\n",
    "\t\tnewrow = []\n",
    "\t\tfor prefix in range(innerlen):\n",
    "\t\t\tsum = 0\n",
    "\t\t\tif digit_sum(prefix) <= MAX_SUM:\n",
    "\t\t\t\tfor nextdigit in range(BASE):\n",
    "\t\t\t\t\tsum += ways[digits - 1][prefix % (BASE ** (CONSECUTIVE - 1)) * BASE + nextdigit]\n",
    "\t\t\tnewrow.append(sum)\n",
    "\t\tways.append(newrow)\n",
    "\t\n",
    "\tans = ways[-1][0] - ways[-2][0]\n",
    "\treturn str(ans)\n",
    "\n",
    "\n",
    "def digit_sum(n):\n",
    "\treturn sum(int(c) for c in str(n))\n",
    "\n",
    "\n",
    "if __name__ == \"__main__\":\n",
    "\tprint(compute())"
   ]
  },
  {
   "cell_type": "code",
   "execution_count": 11,
   "metadata": {},
   "outputs": [
    {
     "data": {
      "text/plain": [
       "754167481"
      ]
     },
     "execution_count": 11,
     "metadata": {},
     "output_type": "execute_result"
    }
   ],
   "source": [
    "378158756814587%mod"
   ]
  },
  {
   "cell_type": "code",
   "execution_count": 12,
   "metadata": {},
   "outputs": [
    {
     "name": "stdout",
     "output_type": "stream",
     "text": [
      "754167481\n"
     ]
    }
   ],
   "source": [
    "mod = 10**9+7\n",
    "\n",
    "combinations = [[0]*10]\n",
    "for _ in range(9):\n",
    "    combinations.append([1]*10)\n",
    "\n",
    "def update(grid):\n",
    "    global mod\n",
    "    newGrid = [[0]*10 for _ in range(10)]\n",
    "    for i in range(10):\n",
    "        for j in range(10):\n",
    "            if i+j<10:\n",
    "                for k in range(10-(i+j)):\n",
    "                    newGrid[j][k] += (grid[i][j])\n",
    "    return newGrid\n",
    "\n",
    "n = 20\n",
    "\n",
    "for _ in range(n-2):\n",
    "    combinations = update(combinations)\n",
    "\n",
    "ans = 0\n",
    "\n",
    "for i in range(10):\n",
    "    for j in range(10):\n",
    "        ans += combinations[i][j]\n",
    "\n",
    "print(ans%mod)"
   ]
  },
  {
   "cell_type": "code",
   "execution_count": 1,
   "metadata": {},
   "outputs": [
    {
     "name": "stdout",
     "output_type": "stream",
     "text": [
      "7145775\n"
     ]
    }
   ],
   "source": [
    "n = 350\n",
    "total = 0\n",
    "for i in range(1,n+1):\n",
    "    total+=i*(n-i)\n",
    "\n",
    "print(total)"
   ]
  },
  {
   "cell_type": "code",
   "execution_count": 3,
   "metadata": {},
   "outputs": [
    {
     "data": {
      "text/plain": [
       "1"
      ]
     },
     "execution_count": 3,
     "metadata": {},
     "output_type": "execute_result"
    }
   ],
   "source": [
    "(-2)%3"
   ]
  }
 ],
 "metadata": {
  "kernelspec": {
   "display_name": "Python 3",
   "language": "python",
   "name": "python3"
  },
  "language_info": {
   "codemirror_mode": {
    "name": "ipython",
    "version": 3
   },
   "file_extension": ".py",
   "mimetype": "text/x-python",
   "name": "python",
   "nbconvert_exporter": "python",
   "pygments_lexer": "ipython3",
   "version": "3.10.11"
  },
  "orig_nbformat": 4
 },
 "nbformat": 4,
 "nbformat_minor": 2
}
