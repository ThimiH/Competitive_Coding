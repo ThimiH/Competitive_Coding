{
 "cells": [
  {
   "cell_type": "code",
   "execution_count": 8,
   "metadata": {},
   "outputs": [
    {
     "name": "stdout",
     "output_type": "stream",
     "text": [
      "10000 10000 12502500\n",
      "10001 1 12502500\n",
      "10002 10003 12502500\n",
      "10003 0 12512503\n",
      "10004 10004 12512503\n",
      "10005 1 12512503\n",
      "10006 10007 12512503\n",
      "10007 0 12522510\n",
      "10008 10008 12522510\n",
      "10009 1 12522510\n",
      "10010 10011 12522510\n",
      "10011 0 12532521\n",
      "10012 10012 12532521\n",
      "10013 1 12532521\n",
      "10014 10015 12532521\n",
      "10015 0 12542536\n",
      "10016 10016 12542536\n",
      "10017 1 12542536\n",
      "10018 10019 12542536\n",
      "10019 0 12552555\n"
     ]
    }
   ],
   "source": [
    "n = 10000\n",
    "\n",
    "xor = 0\n",
    "xor_sum = 0\n",
    "\n",
    "for i in range(n):\n",
    "    xor^=i\n",
    "    if xor==0:\n",
    "        xor_sum+=i\n",
    "\n",
    "for i in range(n,n+20):\n",
    "    xor^=i\n",
    "    if xor==0:\n",
    "        xor_sum+=i\n",
    "    print(i,xor,xor_sum)\n"
   ]
  }
 ],
 "metadata": {
  "kernelspec": {
   "display_name": "Python 3",
   "language": "python",
   "name": "python3"
  },
  "language_info": {
   "codemirror_mode": {
    "name": "ipython",
    "version": 3
   },
   "file_extension": ".py",
   "mimetype": "text/x-python",
   "name": "python",
   "nbconvert_exporter": "python",
   "pygments_lexer": "ipython3",
   "version": "3.10.11"
  }
 },
 "nbformat": 4,
 "nbformat_minor": 2
}
