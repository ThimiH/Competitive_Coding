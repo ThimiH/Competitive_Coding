{
 "cells": [
  {
   "cell_type": "code",
   "execution_count": 5,
   "metadata": {},
   "outputs": [
    {
     "name": "stdout",
     "output_type": "stream",
     "text": [
      "A path exists between Node 5 and Node 0.\n"
     ]
    }
   ],
   "source": [
    "# Sample adjacency matrix for an undirected graph\n",
    "adjacency_matrix = [\n",
    "    [0, 1, 1, 0, 0, 0],\n",
    "    [1, 0, 0, 0, 1, 0],\n",
    "    [1, 0, 0, 0, 0, 1],\n",
    "    [0, 0, 0, 0, 0, 0],\n",
    "    [0, 1, 0, 0, 0, 1],\n",
    "    [0, 0, 1, 0, 1, 0]\n",
    "]\n",
    "\n",
    "def has_path_dfs(matrix, start, target, visited=None):\n",
    "    if visited is None:\n",
    "        visited = set()\n",
    "\n",
    "    if start == target:\n",
    "        return True\n",
    "\n",
    "    visited.add(start)\n",
    "\n",
    "    for i in range(len(matrix[start])):\n",
    "        if matrix[start][i] == 1 and i not in visited:\n",
    "            if has_path_dfs(matrix, i, target, visited):\n",
    "                return True\n",
    "\n",
    "    return False\n",
    "\n",
    "node1 = 5  # Index of the first node\n",
    "node2 = 0  # Index of the second node\n",
    "\n",
    "if has_path_dfs(adjacency_matrix, node1, node2):\n",
    "    print(f\"A path exists between Node {node1} and Node {node2}.\")\n",
    "else:\n",
    "    print(f\"No path exists between Node {node1} and Node {node2}.\")\n"
   ]
  },
  {
   "cell_type": "code",
   "execution_count": 6,
   "metadata": {},
   "outputs": [
    {
     "data": {
      "text/plain": [
       "True"
      ]
     },
     "execution_count": 6,
     "metadata": {},
     "output_type": "execute_result"
    }
   ],
   "source": [
    "10==10.0"
   ]
  },
  {
   "cell_type": "code",
   "execution_count": 2,
   "metadata": {},
   "outputs": [
    {
     "data": {
      "text/plain": [
       "True"
      ]
     },
     "execution_count": 2,
     "metadata": {},
     "output_type": "execute_result"
    }
   ],
   "source": [
    "bool([2])"
   ]
  },
  {
   "cell_type": "code",
   "execution_count": 7,
   "metadata": {},
   "outputs": [
    {
     "name": "stdout",
     "output_type": "stream",
     "text": [
      "18\n"
     ]
    }
   ],
   "source": [
    "for i in range(15,16):\n",
    "    print(len(str(pow(i,i))))"
   ]
  }
 ],
 "metadata": {
  "kernelspec": {
   "display_name": "Python 3",
   "language": "python",
   "name": "python3"
  },
  "language_info": {
   "codemirror_mode": {
    "name": "ipython",
    "version": 3
   },
   "file_extension": ".py",
   "mimetype": "text/x-python",
   "name": "python",
   "nbconvert_exporter": "python",
   "pygments_lexer": "ipython3",
   "version": "3.10.11"
  }
 },
 "nbformat": 4,
 "nbformat_minor": 2
}
